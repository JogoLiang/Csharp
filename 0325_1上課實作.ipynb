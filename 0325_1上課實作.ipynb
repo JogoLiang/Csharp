{
  "nbformat": 4,
  "nbformat_minor": 0,
  "metadata": {
    "colab": {
      "provenance": [],
      "mount_file_id": "1PBZpIjzTVaNIRbe1-vA_vc93zREcBS6N",
      "authorship_tag": "ABX9TyMZGmDAgFPfhH82ZDRWpIDa",
      "include_colab_link": true
    },
    "kernelspec": {
      "name": "python3",
      "display_name": "Python 3"
    },
    "language_info": {
      "name": "python"
    }
  },
  "cells": [
    {
      "cell_type": "markdown",
      "metadata": {
        "id": "view-in-github",
        "colab_type": "text"
      },
      "source": [
        "<a href=\"https://colab.research.google.com/github/JogoLiang/Csharp/blob/master/0325_1%E4%B8%8A%E8%AA%B2%E5%AF%A6%E4%BD%9C.ipynb\" target=\"_parent\"><img src=\"https://colab.research.google.com/assets/colab-badge.svg\" alt=\"Open In Colab\"/></a>"
      ]
    },
    {
      "cell_type": "code",
      "execution_count": null,
      "metadata": {
        "id": "8XbyOR_zbsB4"
      },
      "outputs": [],
      "source": [
        "# 導入json模組\n",
        "import json\n",
        "# 導入urllib.request模組，用來打開URL並讀取JSON回應\n",
        "import urllib.request as req\n",
        "# 定義要讀取的JSON檔的URL\n",
        "url = \"https://www.google.com/doodles/json/2022/11?hl=zh-TW\"\n",
        "# 使用urllib.urlopen()函數打開URL，並將回傳的物件指派給response變數\n",
        "# response->檔案型態(支援.read())\n",
        "response = req.urlopen(url)\n",
        "# 使用json.load () -> list/dict型態\n",
        "json.load(response)\n",
        "# 關閉response物件\n",
        "response.close()\n",
        "# 印出data物件的內容，或者對其進行其他操作\n",
        "print(data)"
      ]
    },
    {
      "cell_type": "code",
      "source": [
        "# 導入json模組\n",
        "import json\n",
        "# 導入pandas模組並另外命名為 pd\n",
        "import pandas as pd\n",
        "# 導入urllib.request模組，用來打開URL並讀取JSON回應\n",
        "import urllib.request as req\n",
        "# 定義要讀取的JSON檔的URL\n",
        "url = \"https://www.google.com/doodles/json/2022/11?hl=zh-TW\"\n",
        "# 使用urllib.urlopen()函數打開URL，並將回傳的物件指派給response變數\n",
        "# response->檔案型態(支援.read())\n",
        "response = req.urlopen(url)\n",
        "# 使用json.load () -> list/dict型態\n",
        "data_json = json.load(response)\n",
        "# pd.DataFram(表格型態)\n",
        "data_Table = pd.json_normalize(data_json)\n",
        "# 存檔輸出成csv\n",
        "data_Table.to_csv(\"doodle.csv\", encoding=\"utf-8\")\n",
        "#response.close()"
      ],
      "metadata": {
        "id": "tezJCekGuiLi"
      },
      "execution_count": 16,
      "outputs": []
    },
    {
      "cell_type": "markdown",
      "source": [
        "$ \\frac{1}{2}\\sum_{i=1}^n(X - \\mu)^2 $\n"
      ],
      "metadata": {
        "id": "CiUu6c4kcH20"
      }
    },
    {
      "cell_type": "markdown",
      "source": [
        "Json型態:\n",
        "  1.list型態:[]\n",
        "  "
      ],
      "metadata": {
        "id": "ABW1QhjIlt9A"
      }
    },
    {
      "cell_type": "code",
      "source": [
        "import os\n",
        "base = \"google\"\n",
        "if not os.path.exists(\"\")\n",
        "  \n",
        "\n",
        "#open -> read -> close 會出現close沒有做到的問題\n",
        "#with...as 保證會關閉\n",
        "with open(\"2022_11.json\",\"w\",encoding=\"utf-8\") as f:\n",
        "  json.dump(data_json,\n",
        "        f,\n",
        "        ensure_ascii=False,\n",
        "        indent=4)\n",
        "  \n",
        "for pic in data_json:\n",
        "  print(pic)"
      ],
      "metadata": {
        "id": "gjOOvXkx1qq3"
      },
      "execution_count": 17,
      "outputs": []
    },
    {
      "cell_type": "code",
      "source": [],
      "metadata": {
        "id": "YJlWeNVg2Dyu"
      },
      "execution_count": null,
      "outputs": []
    }
  ]
}